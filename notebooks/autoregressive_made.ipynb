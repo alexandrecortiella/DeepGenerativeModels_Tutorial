{
 "cells": [
  {
   "cell_type": "markdown",
   "id": "9e679418-3097-426e-921f-be6c49306b8b",
   "metadata": {},
   "source": [
    "# An introduction to Deep Generative Models:\n",
    "## Masked AutoEncoder for Density Estimation in Pytorch\n",
    "**Sources:**\n",
    "- Adaptation from [NADE](https://github.com/EugenHotaj/pytorch-generative/blob/master/pytorch_generative/models/autoregressive/nade.py)\n",
    "- Niels Rogge, Kashif Rasul, [Huggingface notebook](https://colab.research.google.com/github/huggingface/notebooks/blob/main/examples/annotated_diffusion.ipynb#scrollTo=3a159023)\n",
    "- Papers on Diffusion models ([Dhariwal, Nichol, 2021], [Ho et al., 2020] ect.)"
   ]
  },
  {
   "cell_type": "code",
   "execution_count": 1,
   "id": "d47cff97-7e9c-4613-a733-afb18f694e85",
   "metadata": {},
   "outputs": [],
   "source": [
    "import numpy as np\n",
    "\n",
    "import torch\n",
    "import torch.nn as nn\n",
    "import torch.nn.functional as F\n",
    "\n",
    "import numpy as np\n",
    "import torch\n",
    "import torch.nn as nn\n",
    "import torch.nn.functional as F\n",
    "import torch.optim as optim\n",
    "from torch.autograd import Variable\n",
    "from torchvision import datasets, transforms\n",
    "from torchvision.datasets import MNIST\n",
    "from torch.utils.data import DataLoader\n",
    "import os\n",
    "import json\n",
    "import matplotlib.pyplot as plt"
   ]
  },
  {
   "cell_type": "code",
   "execution_count": 2,
   "id": "c49f92fe-dc67-42d7-8685-313c11c8b395",
   "metadata": {},
   "outputs": [],
   "source": [
    "def show_images(images, title=\"\"):\n",
    "    \"\"\"Shows the provided images as sub-pictures in a square\"\"\"\n",
    "\n",
    "    # Converting images to CPU numpy arrays\n",
    "    if type(images) is torch.Tensor:\n",
    "        images = images.detach().cpu().numpy()\n",
    "\n",
    "    # Defining number of rows and columns\n",
    "    fig = plt.figure(figsize=(8, 8))\n",
    "    rows = int(len(images) ** (1 / 2))\n",
    "    cols = round(len(images) / rows)\n",
    "\n",
    "    # Populating figure with sub-plots\n",
    "    idx = 0\n",
    "    for r in range(rows):\n",
    "        for c in range(cols):\n",
    "            fig.add_subplot(rows, cols, idx + 1)\n",
    "\n",
    "            if idx < len(images):\n",
    "                plt.imshow(images[idx], cmap=\"gray\")\n",
    "                idx += 1\n",
    "    fig.suptitle(title, fontsize=30)\n",
    "\n",
    "    # Showing the figure\n",
    "    plt.show()\n",
    "\n",
    "def show_first_batch(loader):\n",
    "    for batch in loader:\n",
    "        show_images(batch[0], \"Images in the first batch\")\n",
    "        break"
   ]
  },
  {
   "cell_type": "code",
   "execution_count": 3,
   "id": "72b05552-eb8b-4488-825c-c34df9fe7148",
   "metadata": {},
   "outputs": [],
   "source": [
    "import torch\n",
    "import torch.nn as nn\n",
    "import torch.nn.functional as F\n",
    "import numpy as np\n",
    "\n",
    "class LinearMasked(nn.Linear):\n",
    "    \"\"\"\n",
    "    Class implementing nn.Linear with mask\n",
    "    \"\"\"\n",
    "\n",
    "    def __init__(self, in_features, out_features, bias=True, device = 'mps'):\n",
    "        super().__init__(in_features, out_features, bias)\n",
    "        self.mask = None\n",
    "        self.device = device\n",
    "        # self.register_buffer('mask', torch.ones(out_features, in_features))\n",
    "\n",
    "    def set_mask(self, mask):\n",
    "        self.mask = torch.from_numpy(mask.astype(np.uint8))\n",
    "        # self.mask.data.copy_(torch.from_numpy(mask.astype(np.uint8)))\n",
    "\n",
    "    def forward(self, x):\n",
    "        return F.linear(x.to(device), self.mask.to(device) * self.weight.to(device), self.bias)\n",
    "\n",
    "class MADE(nn.Module):\n",
    "    \"\"\" MADE model for binary image dataset. \"\"\"\n",
    "    def __init__(self, input_dim, use_cuda=True):\n",
    "        super().__init__()\n",
    "        self.input_dim = input_dim\n",
    "        self.device = torch.device('mps') \n",
    "\n",
    "        self.net = nn.Sequential(\n",
    "            LinearMasked(input_dim, input_dim), nn.ReLU(),\n",
    "            LinearMasked(input_dim, input_dim), nn.ReLU(),\n",
    "            LinearMasked(input_dim, input_dim)\n",
    "        )\n",
    "\n",
    "        self.apply_masks()\n",
    "\n",
    "    def forward(self, x):\n",
    "        return self.net(x)\n",
    "\n",
    "    def set_mask(self, mask):\n",
    "        self.mask = torch.from_numpy(mask.astype(np.uint8)).to(self.device)\n",
    "        # self.mask.data.copy_(torch.from_numpy(mask.astype(np.uint8)))\n",
    "\n",
    "    def apply_masks(self):\n",
    "        # Set order of masks, i.e. who can make which edges\n",
    "        # Using natural ordering\n",
    "        order1 = np.arange(self.input_dim)\n",
    "        order2 = np.arange(self.input_dim)\n",
    "        order3 = np.arange(self.input_dim)\n",
    "\n",
    "        # Construct the mask matrices\n",
    "        masks = []\n",
    "        m1 = (order1[:, None] <= order2[None,:]).T\n",
    "        m2 = (order2[:, None] <= order3[None,:]).T\n",
    "        m3 = (order2[:,None] < order3[None,:]).T\n",
    "        masks.append(m1)\n",
    "        masks.append(m2)\n",
    "        masks.append(m3)\n",
    "\n",
    "        # Set the masks in all LinearMasked layers\n",
    "        layers = [l for l in self.net.modules() if isinstance(l, LinearMasked)]\n",
    "\n",
    "        for l, m in zip(layers, masks):\n",
    "            l.set_mask(m)"
   ]
  },
  {
   "cell_type": "code",
   "execution_count": 4,
   "id": "51a9ace1-37dc-49ab-8f96-8e1c189b6889",
   "metadata": {},
   "outputs": [],
   "source": [
    "#Dataset parameters\n",
    "dataset_path = './datasets'\n",
    "device = \"cuda\" if torch.cuda.is_available() else \"cpu\"\n",
    "batch_size = 256\n",
    "\n",
    "mnist_transform = transforms.Compose([\n",
    "        transforms.ToTensor(),\n",
    "])\n",
    "\n",
    "kwargs = {'num_workers': 1, 'pin_memory': True} \n",
    "\n",
    "train_dataset = MNIST(dataset_path, transform=mnist_transform, train=True, download=False)\n",
    "val_dataset  = MNIST(dataset_path, transform=mnist_transform, train=False, download=False)\n",
    "\n",
    "train_loader = DataLoader(dataset=train_dataset, batch_size=batch_size, shuffle=True, **kwargs)\n",
    "val_loader  = DataLoader(dataset=val_dataset,  batch_size=batch_size, shuffle=False, **kwargs)"
   ]
  },
  {
   "cell_type": "code",
   "execution_count": 5,
   "id": "796a617f-cdb8-4cde-9814-a94892423e02",
   "metadata": {},
   "outputs": [],
   "source": [
    "def nll_loss(batch, output):\n",
    "    return F.binary_cross_entropy(torch.sigmoid(output), batch)\n",
    "\n",
    "H, W = 28, 28\n",
    "input_dim = H * W\n",
    "model = MADE(input_dim)\n",
    "    \n",
    "epochs = 10\n",
    "lr = 0.005\n",
    "\n",
    "optimizer = torch.optim.Adam(model.parameters(), lr=lr)"
   ]
  },
  {
   "cell_type": "code",
   "execution_count": 6,
   "id": "617379bc-90f8-433f-8010-817f53d766bf",
   "metadata": {},
   "outputs": [
    {
     "name": "stdout",
     "output_type": "stream",
     "text": [
      "Epoch: 0 - Train loss: 0.0009106149303416411 - Val loss: 0.000629798024892807\n",
      "Saving model...\n",
      "Epoch: 1 - Train loss: 0.0005483304093281428 - Val loss: 0.0005065262407064438\n",
      "Epoch: 2 - Train loss: 0.00048025529757142065 - Val loss: 0.00047254047989845276\n",
      "Epoch: 3 - Train loss: 0.0004534622268130382 - Val loss: 0.00045653168186545373\n",
      "Epoch: 4 - Train loss: 0.00043794465735554696 - Val loss: 0.0004447474256157875\n",
      "Epoch: 5 - Train loss: 0.00042788748033344745 - Val loss: 0.00043752764388918877\n",
      "Saving model...\n",
      "Epoch: 6 - Train loss: 0.0004205273525168498 - Val loss: 0.0004323145627975464\n",
      "Epoch: 7 - Train loss: 0.0004155773350348075 - Val loss: 0.0004324221596121788\n",
      "Epoch: 8 - Train loss: 0.00041015924314657845 - Val loss: 0.00042278709411621096\n",
      "Epoch: 9 - Train loss: 0.00040628889116148156 - Val loss: 0.00042461633607745173\n",
      "Epoch: 10 - Train loss: 0.00040319122187793254 - Val loss: 0.00042234934121370316\n",
      "Saving model...\n",
      "Epoch: 11 - Train loss: 0.00040059493159254393 - Val loss: 0.00041926450431346894\n",
      "Epoch: 12 - Train loss: 0.0003984844483435154 - Val loss: 0.00041921428218483924\n",
      "Epoch: 13 - Train loss: 0.0003960390588889519 - Val loss: 0.00041802258118987085\n",
      "Epoch: 14 - Train loss: 0.00039443717735509077 - Val loss: 0.00041659495681524276\n",
      "Epoch: 15 - Train loss: 0.00039332889517148335 - Val loss: 0.00041503227949142454\n",
      "Saving model...\n",
      "Epoch: 16 - Train loss: 0.0003917078455289205 - Val loss: 0.00041694610565900803\n",
      "Epoch: 17 - Train loss: 0.00039033996959527334 - Val loss: 0.0004147072657942772\n",
      "Epoch: 18 - Train loss: 0.0003893294428785642 - Val loss: 0.0004151575319468975\n",
      "Epoch: 19 - Train loss: 0.00038839221683641275 - Val loss: 0.0004146242901682854\n",
      "Epoch: 20 - Train loss: 0.0003876822917411725 - Val loss: 0.000415026567876339\n",
      "Saving model...\n",
      "Epoch: 21 - Train loss: 0.00038690397292375563 - Val loss: 0.0004173637770116329\n",
      "Epoch: 22 - Train loss: 0.00038600356876850126 - Val loss: 0.0004126575715839863\n",
      "Epoch: 23 - Train loss: 0.0003853955316046874 - Val loss: 0.00041554365679621696\n",
      "Epoch: 24 - Train loss: 0.00038431669771671296 - Val loss: 0.00041423152312636377\n",
      "Saving model...\n"
     ]
    }
   ],
   "source": [
    "epochs = 25\n",
    "save_every = 5\n",
    "train=True\n",
    "checkpoint_path = './logs/ar/made/checkpoints'\n",
    "loss_hist = {'epoch': [], 'train_loss': [], 'val_loss': []}\n",
    "\n",
    "if train:\n",
    "    for epoch in range(epochs):\n",
    "    \n",
    "        #Training loss\n",
    "        model.train()\n",
    "        train_loss = 0.0\n",
    "        for batch_idx, (batch, _) in enumerate(train_loader):\n",
    "        \n",
    "            optimizer.zero_grad()\n",
    "            # preprocess to binary\n",
    "            inputs = batch.view(batch.size(0), -1).gt(0.).float().to(device)\n",
    "            output = model(inputs)\n",
    "            loss = nll_loss(inputs, output)\n",
    "            loss.backward()\n",
    "            optimizer.step()\n",
    "            # record\n",
    "            train_loss += loss.item()  \n",
    "            \n",
    "        train_loss = train_loss/len(train_loader.dataset)\n",
    "        loss_hist['train_loss'].append(train_loss)\n",
    "    \n",
    "    \n",
    "        #Validation loss\n",
    "        model.eval()\n",
    "        val_loss = 0.0\n",
    "        with torch.no_grad():\n",
    "            for (batch, _) in val_loader:\n",
    "                # preprocess to binary\n",
    "                inputs = batch.view(batch.size(0), -1).gt(0.).float().to(device)\n",
    "                output = model(inputs)\n",
    "                loss = nll_loss(inputs, output)\n",
    "                val_loss += loss.item()\n",
    "    \n",
    "            val_loss = val_loss/len(val_loader.dataset)\n",
    "            loss_hist['val_loss'].append(val_loss)\n",
    "    \n",
    "        loss_hist['epoch'].append(epoch)\n",
    "    \n",
    "        print(f'Epoch: {epoch} - Train loss: {train_loss} - Val loss: {val_loss}')\n",
    "    \n",
    "        #scheduler.step()\n",
    "    \n",
    "        #Save model \n",
    "        if epoch % save_every == 0 or epoch == epochs-1:\n",
    "            print('Saving model...') \n",
    "            path = os.path.join(checkpoint_path, f'made_mnist_epoch_{epoch}.ckpt')\n",
    "            torch.save(model.state_dict(), path)\n",
    "            with open('./logs/ar/made/loss.json', 'w') as out_file:\n",
    "                json.dump(loss_hist, out_file, indent = 6)\n",
    "\n",
    "else:\n",
    "    ckpt_path = os.path.join(checkpoint_path, 'made_mnist_epoch_24.ckpt')\n",
    "    model.load_state_dict(torch.load(ckpt_path))\n",
    "    model.eval()"
   ]
  },
  {
   "cell_type": "code",
   "execution_count": 10,
   "id": "b502eab2-474c-4aa5-9819-6f11ad622202",
   "metadata": {},
   "outputs": [
    {
     "data": {
      "text/plain": [
       "Text(0.5, 1.0, 'MADE loss')"
      ]
     },
     "execution_count": 10,
     "metadata": {},
     "output_type": "execute_result"
    },
    {
     "data": {
      "image/png": "[encoded data removed]",
      "text/plain": [
       "<Figure size 640x480 with 1 Axes>"
      ]
     },
     "metadata": {},
     "output_type": "display_data"
    }
   ],
   "source": [
    "import matplotlib.pyplot as plt\n",
    "with open('./logs/ar/made/loss.json', 'r') as in_file:\n",
    "    loss_hist = json.load(in_file)\n",
    "\n",
    "plt.semilogy(loss_hist['epoch'], loss_hist['train_loss'])\n",
    "plt.semilogy(loss_hist['epoch'], loss_hist['val_loss'])\n",
    "plt.xlabel('epoch')\n",
    "plt.ylabel('loss')\n",
    "plt.legend(['train loss','validation loss'])\n",
    "plt.title('MADE loss')"
   ]
  },
  {
   "cell_type": "markdown",
   "id": "4eb7e146-bd4f-48e2-9cb3-b887c03e52a7",
   "metadata": {},
   "source": [
    "### Sampling"
   ]
  },
  {
   "cell_type": "code",
   "execution_count": 11,
   "id": "4f7d30f5-682b-4b76-9eb3-ae259b423f7a",
   "metadata": {},
   "outputs": [],
   "source": [
    "# Generate samples\n",
    "num_samples=16\n",
    "def gen_samples(num_samples):\n",
    "    model.eval()\n",
    "    samples = torch.zeros(size=(num_samples, H * W)).to(device)\n",
    "    with torch.no_grad():\n",
    "        for i in range(H * W):\n",
    "            logits = model(samples)\n",
    "            probas = torch.sigmoid(logits)\n",
    "            pixel_i_samples = torch.bernoulli(probas[:, i])\n",
    "            samples[:, i] = pixel_i_samples\n",
    "    return samples.reshape(num_samples, H, W).numpy()"
   ]
  },
  {
   "cell_type": "code",
   "execution_count": 13,
   "id": "4a8ca34b-3a8e-40cd-ae40-2f86132f9e34",
   "metadata": {},
   "outputs": [
    {
     "data": {
      "image/png": "[encoded data removed]",
      "text/plain": [
       "<Figure size 800x800 with 16 Axes>"
      ]
     },
     "metadata": {},
     "output_type": "display_data"
    }
   ],
   "source": [
    "generated = gen_samples(num_samples)\n",
    "show_images(generated, \"Generated samples\")"
   ]
  },
  {
   "cell_type": "code",
   "execution_count": null,
   "id": "1980830d-535b-42b8-93a5-dad2ac85a99e",
   "metadata": {},
   "outputs": [],
   "source": []
  }
 ],
 "metadata": {
  "kernelspec": {
   "display_name": "Python 3 (ipykernel)",
   "language": "python",
   "name": "python3"
  },
  "language_info": {
   "codemirror_mode": {
    "name": "ipython",
    "version": 3
   },
   "file_extension": ".py",
   "mimetype": "text/x-python",
   "name": "python",
   "nbconvert_exporter": "python",
   "pygments_lexer": "ipython3",
   "version": "3.10.13"
  }
 },
 "nbformat": 4,
 "nbformat_minor": 5
}
